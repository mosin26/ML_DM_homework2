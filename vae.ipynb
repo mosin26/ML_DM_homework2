{
 "cells": [
  {
   "cell_type": "markdown",
   "metadata": {},
   "source": [
    "### ***Vasiliy Mosin***"
   ]
  },
  {
   "cell_type": "markdown",
   "metadata": {},
   "source": [
    "There is a CNN with greedy layer-wise pretraining via Variational Convolutional AutoEncoders implemented in this notebook. "
   ]
  },
  {
   "cell_type": "code",
   "execution_count": 2,
   "metadata": {
    "collapsed": false
   },
   "outputs": [],
   "source": [
    "import os\n",
    "import os.path as osp\n",
    "\n",
    "import numpy as np\n",
    "\n",
    "import theano\n",
    "import theano.tensor as T\n",
    "from lasagne import *\n",
    "\n",
    "from mldm.net import Net\n",
    "\n",
    "%matplotlib inline\n",
    "import matplotlib.pyplot as plt"
   ]
  },
  {
   "cell_type": "markdown",
   "metadata": {},
   "source": [
    "Loading of the MNIST dataset."
   ]
  },
  {
   "cell_type": "code",
   "execution_count": 2,
   "metadata": {
    "collapsed": true
   },
   "outputs": [],
   "source": [
    "%%sh\n",
    "\n",
    "wget -q -nc https://raw.githubusercontent.com/amitgroup/amitgroup/master/amitgroup/io/mnist.py"
   ]
  },
  {
   "cell_type": "code",
   "execution_count": 3,
   "metadata": {
    "collapsed": true
   },
   "outputs": [],
   "source": [
    "import mnist"
   ]
  },
  {
   "cell_type": "code",
   "execution_count": null,
   "metadata": {
    "collapsed": false
   },
   "outputs": [],
   "source": [
    "%%sh\n",
    "\n",
    "mkdir -p mnist && {\n",
    "    cd mnist;\n",
    "    wget -q -nc http://yann.lecun.com/exdb/mnist/train-images-idx3-ubyte.gz &&\n",
    "    wget -q -nc http://yann.lecun.com/exdb/mnist/train-labels-idx1-ubyte.gz &&\n",
    "    wget -q -nc http://yann.lecun.com/exdb/mnist/t10k-images-idx3-ubyte.gz &&\n",
    "    wget -q -nc http://yann.lecun.com/exdb/mnist/t10k-labels-idx1-ubyte.gz &&\n",
    "    gunzip *.gz\n",
    "}"
   ]
  },
  {
   "cell_type": "code",
   "execution_count": 4,
   "metadata": {
    "collapsed": false
   },
   "outputs": [],
   "source": [
    "X, y = mnist.load_mnist(dataset='training', path='mnist/')\n",
    "X = X.reshape(-1, 1, 28, 28).astype('float32')\n",
    "\n",
    "X_test, y_test = mnist.load_mnist(dataset='testing', path='mnist/')\n",
    "X_test = X_test.reshape(-1, 1, 28, 28).astype('float32')"
   ]
  },
  {
   "cell_type": "code",
   "execution_count": 5,
   "metadata": {
    "collapsed": true
   },
   "outputs": [],
   "source": [
    "def one_hot(y, n_classes=10):\n",
    "    onehot = np.zeros(shape=(y.shape[0], n_classes), dtype='float32')\n",
    "    onehot[np.arange(y.shape[0]), y] = 1.0\n",
    "    return onehot"
   ]
  },
  {
   "cell_type": "code",
   "execution_count": 6,
   "metadata": {
    "collapsed": true
   },
   "outputs": [],
   "source": [
    "y = one_hot(y)\n",
    "y_test = one_hot(y_test)"
   ]
  },
  {
   "cell_type": "markdown",
   "metadata": {},
   "source": [
    "Make a little change to the DeepDenseMNISTNet class in order to create Convolutional Autoencoders."
   ]
  },
  {
   "cell_type": "code",
   "execution_count": 21,
   "metadata": {
    "collapsed": false
   },
   "outputs": [],
   "source": [
    "class DeepDenseMNISTNet(Net):\n",
    "    def __init__(self):\n",
    "        self.X_batch = T.tensor4(name='X_batch')\n",
    "        self.y_batch = T.fmatrix(name='y_batch')\n",
    "        self.layers = []\n",
    "        input_l = layers.InputLayer(shape=(None, 1, 28, 28), input_var=self.X_batch, name='Input')\n",
    "        self.layers.append(input_l)\n",
    "        for i, n_units in enumerate([4, 4, 4]):\n",
    "            conv = layers.Conv2DLayer(self.layers[-1], n_units, (3, 3))\n",
    "            self.layers.append(conv)\n",
    "        output_l = layers.DenseLayer(self.layers[-1], num_units=10, nonlinearity=nonlinearities.softmax, name= 'output') \n",
    "        self.layers.append(output_l)\n",
    "        self.net = output_l       \n",
    "        self.predictions = layers.get_output(self.net)\n",
    "        self.pure_loss = T.mean(objectives.categorical_crossentropy(self.predictions, self.y_batch))        \n",
    "        self.prior_params = [theano.shared(np.zeros(shape=param.get_value().shape, dtype='float32'),\n",
    "                name = 'prior%d' % i) for i, param in enumerate(layers.get_all_params(self.net, regularizable=True))]    \n",
    "        self.regularizations = [T.mean((param - prior) ** 2) for param, prior in\n",
    "                                zip(layers.get_all_params(self.net, regularizable=True), self.prior_params)]       \n",
    "        self.regularization = reduce(lambda a, b: a + b, self.regularizations)\n",
    "        self.regularization_coef = T.fscalar('regularization_coef')        \n",
    "        self.loss = self.pure_loss + self.regularization_coef * self.regularization        \n",
    "        self.learning_rate = T.fscalar('learning rate')\n",
    "        params = layers.get_all_params(self.net)\n",
    "        upd = updates.adadelta(self.loss, params, learning_rate=self.learning_rate)\n",
    "        self.train = theano.function([self.X_batch, self.y_batch, self.regularization_coef, self.learning_rate],\n",
    "                                     self.pure_loss, updates=upd)\n",
    "        self.get_loss = theano.function([self.X_batch, self.y_batch], self.pure_loss)\n",
    "        super(DeepDenseMNISTNet, self).__init__()\n",
    "    \n",
    "    def copy_as_prior(self):\n",
    "        for param, prior in zip(layers.get_all_params(self.net, regularizable=True), self.prior_params):\n",
    "            value = param.get_value()\n",
    "            prior.set_value(value)\n",
    "            \n",
    "    def save(self, path):\n",
    "        params = layers.get_all_param_values(self.net)\n",
    "        priors = [ prior.get_value() for prior in self.prior_params ]\n",
    "        p = dict()\n",
    "        for i, v in enumerate(params):\n",
    "            p['param_%d' % i] = v\n",
    "        for i, v in enumerate(priors):\n",
    "            p['prior_%d' % i] = v\n",
    "        return np.savez(path, **p)\n",
    "    \n",
    "    def load(self, path):\n",
    "        with np.load(path) as f:\n",
    "            params = layers.get_all_params(self.net)\n",
    "            param_values = [ f['param_%d' % i] for i in xrange(len(params)) ]\n",
    "            layers.set_all_param_values(self.net, param_values)\n",
    "            for i, prior in enumerate(self.prior_params):\n",
    "                prior.set_value(f['prior_%d' % i])\n",
    "        return self\n",
    "            \n",
    "    @staticmethod\n",
    "    def batch_stream(n, batch_size=32):\n",
    "        n_batches = n / batch_size\n",
    "        for i in xrange(n_batches):\n",
    "            indx = np.random.choice(n, size=batch_size)\n",
    "            yield indx\n",
    "    \n",
    "    def fit(self, X, y, n_epoches = 1, batch_size=32, regularization_coef=1.0e-3, learning_rate = 1.0):\n",
    "        regularization_coef = np.float32(regularization_coef)\n",
    "        learning_rate = np.float32(learning_rate)\n",
    "        n_batches = X.shape[0] / batch_size\n",
    "        losses = np.zeros(shape=(n_epoches, n_batches), dtype='float32')\n",
    "        for epoch in xrange(n_epoches):\n",
    "            #print epoch\n",
    "            for i, indx in enumerate(self.batch_stream(X.shape[0], batch_size=batch_size)):\n",
    "                losses[epoch, i] = self.train(X[indx], y[indx], regularization_coef, learning_rate)\n",
    "            yield losses[:(epoch + 1)]"
   ]
  },
  {
   "cell_type": "code",
   "execution_count": 22,
   "metadata": {
    "collapsed": false
   },
   "outputs": [],
   "source": [
    "deep_net = DeepDenseMNISTNet()"
   ]
  },
  {
   "cell_type": "code",
   "execution_count": 23,
   "metadata": {
    "collapsed": false
   },
   "outputs": [],
   "source": [
    "deep_net.save('deep-net-0.npz')"
   ]
  },
  {
   "cell_type": "code",
   "execution_count": null,
   "metadata": {
    "collapsed": false,
    "scrolled": true
   },
   "outputs": [],
   "source": [
    "lozz = []\n",
    "for loss in deep_net.fit(X, y, n_epoches=8, batch_size=512, regularization_coef=1.0e-3):\n",
    "    lozz.append(loss.mean())"
   ]
  },
  {
   "cell_type": "markdown",
   "metadata": {},
   "source": [
    "Plotting training curve without pretraining."
   ]
  },
  {
   "cell_type": "code",
   "execution_count": 27,
   "metadata": {
    "collapsed": false
   },
   "outputs": [
    {
     "data": {
      "text/plain": [
       "[<matplotlib.lines.Line2D at 0x7f61db5cbbd0>]"
      ]
     },
     "execution_count": 27,
     "metadata": {},
     "output_type": "execute_result"
    },
    {
     "data": {
      "image/png": "[encoded data removed]",
      "text/plain": [
       "<matplotlib.figure.Figure at 0x7f61dcfd4b10>"
      ]
     },
     "metadata": {},
     "output_type": "display_data"
    }
   ],
   "source": [
    "plt.plot(lozz)"
   ]
  },
  {
   "cell_type": "markdown",
   "metadata": {},
   "source": [
    "Now, compare it with pretrained network."
   ]
  },
  {
   "cell_type": "code",
   "execution_count": 28,
   "metadata": {
    "collapsed": false,
    "scrolled": true
   },
   "outputs": [],
   "source": [
    "deep_net = deep_net.load('deep-net-0.npz')"
   ]
  },
  {
   "cell_type": "code",
   "execution_count": 29,
   "metadata": {
    "collapsed": true
   },
   "outputs": [],
   "source": [
    "class VAE(Net):\n",
    "    def __init__(self, layer, X_input, p = 0.1):\n",
    "        super(VAE, self).__init__()      \n",
    "        X_in = layers.get_output(layer.input_layer)\n",
    "        in_shape = layer.input_shape\n",
    "        out_shape = layer.output_shape      \n",
    "        self.in_layer = layers.InputLayer(shape=in_shape, input_var=X_in)\n",
    "        self.dropout_l = layers.DropoutLayer(self.in_layer, p = p, rescale=False)\n",
    "        self.encode_l = layers.Conv2DLayer(self.dropout_l, out_shape[1], (3,3), W = layer.W, b = layer.b)\n",
    "        self.decode_l = layers.Deconv2DLayer(self.encode_l, in_shape[1], (3,3))\n",
    "        self.net = self.decode_l\n",
    "        reconstructed = layers.get_output(self.decode_l)\n",
    "        self.reconstructed = reconstructed\n",
    "        self.loss = -T.mean(X_in * T.log(reconstructed) + (1 - X_in) * T.log(1 - reconstructed))\n",
    "        params = layers.get_all_params(self.net)\n",
    "        learning_rate = T.fscalar('learning rate')\n",
    "        upd = updates.adadelta(self.loss, params, learning_rate=learning_rate)\n",
    "        self.train = theano.function([X_input, learning_rate], self.loss, updates=upd, allow_input_downcast=True)\n",
    "\n",
    "    @staticmethod\n",
    "    def batch_stream(n, batch_size=32):\n",
    "        n_batches = n / batch_size\n",
    "        for i in xrange(n_batches):\n",
    "            indx = np.random.choice(n, size=batch_size)\n",
    "            yield indx\n",
    "    \n",
    "    def fit(self, X, n_epoches = 1, batch_size=32, learning_rate = 1.0):\n",
    "        learning_rate = np.float32(learning_rate)\n",
    "        n_batches = X.shape[0] / batch_size\n",
    "        losses = np.zeros(shape=(n_epoches, n_batches), dtype='float32')\n",
    "        for epoch in xrange(n_epoches):\n",
    "            #print epoch\n",
    "            for i, indx in enumerate(self.batch_stream(X.shape[0], batch_size=batch_size)):\n",
    "                losses[epoch, i] = self.train(X[indx], learning_rate)\n",
    "            yield losses[:(epoch + 1)]"
   ]
  },
  {
   "cell_type": "markdown",
   "metadata": {},
   "source": [
    "Pretraining loop."
   ]
  },
  {
   "cell_type": "code",
   "execution_count": null,
   "metadata": {
    "collapsed": false,
    "scrolled": true
   },
   "outputs": [],
   "source": [
    "for i, l in enumerate(deep_net.layers[1:len(deep_net.layers)-1]):\n",
    "    vae = VAE(l, p=0.25, X_input=deep_net.X_batch)\n",
    "    lozz = []\n",
    "    for l in vae.fit(X, n_epoches=8, batch_size=512, learning_rate=1.0):\n",
    "        lozz.append(l.mean())\n",
    "    deep_net.copy_as_prior()\n",
    "    deep_net.save('deep-net-%d.npz' % (i + 1))"
   ]
  },
  {
   "cell_type": "markdown",
   "metadata": {},
   "source": [
    "Fine-tuning."
   ]
  },
  {
   "cell_type": "code",
   "execution_count": null,
   "metadata": {
    "collapsed": false,
    "scrolled": true
   },
   "outputs": [],
   "source": [
    "deep_net.load('deep-net-2.npz')"
   ]
  },
  {
   "cell_type": "code",
   "execution_count": null,
   "metadata": {
    "collapsed": false
   },
   "outputs": [],
   "source": [
    "lozz = []\n",
    "for l in deep_net.fit(X, y, n_epoches=8, batch_size=512, learning_rate=1.0e-1, regularization_coef=1.0e-2):\n",
    "    lozz.append(l.mean())"
   ]
  },
  {
   "cell_type": "code",
   "execution_count": 39,
   "metadata": {
    "collapsed": false
   },
   "outputs": [
    {
     "data": {
      "text/plain": [
       "[<matplotlib.lines.Line2D at 0x7f61d964d6d0>]"
      ]
     },
     "execution_count": 39,
     "metadata": {},
     "output_type": "execute_result"
    },
    {
     "data": {
      "image/png": "[encoded data removed]",
      "text/plain": [
       "<matplotlib.figure.Figure at 0x7f61db7d1d10>"
      ]
     },
     "metadata": {},
     "output_type": "display_data"
    }
   ],
   "source": [
    "plt.plot(lozz)"
   ]
  },
  {
   "cell_type": "markdown",
   "metadata": {},
   "source": [
    "As we see, training goes faster in the case when using VAE as pretraining."
   ]
  },
  {
   "cell_type": "markdown",
   "metadata": {},
   "source": [
    "Calculation of the final accuracy."
   ]
  },
  {
   "cell_type": "code",
   "execution_count": 40,
   "metadata": {
    "collapsed": true
   },
   "outputs": [],
   "source": [
    "predict = theano.function([deep_net.X_batch], deep_net.predictions)"
   ]
  },
  {
   "cell_type": "code",
   "execution_count": 42,
   "metadata": {
    "collapsed": false
   },
   "outputs": [
    {
     "name": "stdout",
     "output_type": "stream",
     "text": [
      "accuracy: 0.9789\n"
     ]
    }
   ],
   "source": [
    "y_proba = predict(X_test)\n",
    "print 'accuracy:', np.mean(np.argmax(y_test, axis=1) == np.argmax(y_proba, axis=1))"
   ]
  }
 ],
 "metadata": {
  "kernelspec": {
   "display_name": "Python 2",
   "language": "python",
   "name": "python2"
  },
  "language_info": {
   "codemirror_mode": {
    "name": "ipython",
    "version": 2
   },
   "file_extension": ".py",
   "mimetype": "text/x-python",
   "name": "python",
   "nbconvert_exporter": "python",
   "pygments_lexer": "ipython2",
   "version": "2.7.12"
  }
 },
 "nbformat": 4,
 "nbformat_minor": 0
}
